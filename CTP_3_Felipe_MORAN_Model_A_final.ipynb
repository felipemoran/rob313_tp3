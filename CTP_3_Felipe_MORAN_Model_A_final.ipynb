{
  "nbformat": 4,
  "nbformat_minor": 0,
  "metadata": {
    "colab": {
      "name": "CTP_3_Felipe_MORAN_Model_A_final",
      "version": "0.3.2",
      "provenance": [],
      "collapsed_sections": [
        "YAz-fhRRdFaR"
      ],
      "include_colab_link": true
    },
    "kernelspec": {
      "name": "python3",
      "display_name": "Python 3"
    },
    "accelerator": "GPU"
  },
  "cells": [
    {
      "cell_type": "markdown",
      "metadata": {
        "id": "view-in-github",
        "colab_type": "text"
      },
      "source": [
        "<a href=\"https://colab.research.google.com/github/felipemoran/rob313_tp3/blob/master/CTP_3_Felipe_MORAN_Model_A_final.ipynb\" target=\"_parent\"><img src=\"https://colab.research.google.com/assets/colab-badge.svg\" alt=\"Open In Colab\"/></a>"
      ]
    },
    {
      "metadata": {
        "id": "sVylXWzeNotU",
        "colab_type": "text"
      },
      "cell_type": "markdown",
      "source": [
        "# TP3 - ROB313\n",
        "### Felipe MORAN \n",
        "\n",
        "This is a simplified version of the original notebook cointaining only the code needed to test different CNN structures and parameters."
      ]
    },
    {
      "metadata": {
        "id": "XMMhF86KP4Dv",
        "colab_type": "text"
      },
      "cell_type": "markdown",
      "source": [
        "## Setup"
      ]
    },
    {
      "metadata": {
        "id": "uhoVDbhqNuOZ",
        "colab_type": "text"
      },
      "cell_type": "markdown",
      "source": [
        "### Plotting functions and useful **imports**"
      ]
    },
    {
      "metadata": {
        "id": "nnee2WPudA9K",
        "colab_type": "code",
        "colab": {}
      },
      "cell_type": "code",
      "source": [
        "%matplotlib inline\n",
        "\n",
        "# Python 2/3 compatibility\n",
        "from __future__ import print_function, division\n",
        "\n",
        "import itertools\n",
        "import time\n",
        "\n",
        "\n",
        "import numpy as np\n",
        "import matplotlib.pyplot as plt\n",
        "\n",
        "# Colors from Colorbrewer Paired_12\n",
        "colors = [[31, 120, 180], [51, 160, 44]]\n",
        "colors = [(r / 255, g / 255, b / 255) for (r, g, b) in colors]\n",
        "\n",
        "# functions to show an image\n",
        "def imshow(img):\n",
        "    \"\"\"\n",
        "    :param img: (PyTorch Tensor)\n",
        "    \"\"\"\n",
        "    # unnormalize\n",
        "    img = img / 2 + 0.5     \n",
        "    # Convert tensor to numpy array\n",
        "    npimg = img.numpy()\n",
        "    # Color channel first -> color channel last\n",
        "    plt.imshow(np.transpose(npimg, (1, 2, 0)))\n",
        "\n",
        "\n",
        "\n",
        "def plot_losses(train_history, val_history):\n",
        "    x = np.arange(1, len(train_history) + 1)\n",
        "\n",
        "    plt.figure(figsize=(8, 6))\n",
        "    plt.plot(x, train_history, color=colors[0], label=\"Training loss\", linewidth=2)\n",
        "    plt.plot(x, val_history, color=colors[1], label=\"Validation loss\", linewidth=2)\n",
        "    plt.xlabel('Epoch')\n",
        "    plt.ylabel('Loss')\n",
        "    plt.legend(loc='upper right')\n",
        "    plt.title(\"Evolution of the training and validation loss\")\n",
        "    plt.show()\n",
        "\n",
        "def plot_confusion_matrix(cm, classes,\n",
        "                          normalize=False,\n",
        "                          title='Confusion matrix',\n",
        "                          cmap=plt.cm.Blues):\n",
        "    \"\"\"\n",
        "    This function prints and plots the confusion matrix.\n",
        "    Normalization can be applied by setting `normalize=True`.\n",
        "    from http://scikit-learn.org/stable/auto_examples/model_selection/plot_confusion_matrix.html\n",
        "    :param cm: (numpy matrix) confusion matrix\n",
        "    :param classes: [str]\n",
        "    :param normalize: (bool)\n",
        "    :param title: (str)\n",
        "    :param cmap: (matplotlib color map)\n",
        "    \"\"\"\n",
        "    if normalize:\n",
        "        cm = cm.astype('float') / cm.sum(axis=1)[:, np.newaxis]\n",
        "        \n",
        "    plt.figure(figsize=(8, 8))   \n",
        "    plt.imshow(cm, interpolation='nearest', cmap=cmap)\n",
        "    plt.title(title)\n",
        "    plt.colorbar()\n",
        "    tick_marks = np.arange(len(classes))\n",
        "    plt.xticks(tick_marks, classes, rotation=45)\n",
        "    plt.yticks(tick_marks, classes)\n",
        "\n",
        "    fmt = '.2f' if normalize else 'd'\n",
        "    thresh = cm.max() / 2.\n",
        "    for i, j in itertools.product(range(cm.shape[0]), range(cm.shape[1])):\n",
        "        plt.text(j, i, format(cm[i, j], fmt),\n",
        "                 horizontalalignment=\"center\",\n",
        "                 color=\"white\" if cm[i, j] > thresh else \"black\")\n",
        "\n",
        "    plt.tight_layout()\n",
        "    plt.ylabel('True label')\n",
        "    plt.xlabel('Predicted label')"
      ],
      "execution_count": 0,
      "outputs": []
    },
    {
      "metadata": {
        "deletable": true,
        "editable": true,
        "id": "aH_K9V7icav6",
        "colab_type": "text"
      },
      "cell_type": "markdown",
      "source": [
        "### Install PyTorch and Torchvision\n",
        "\n"
      ]
    },
    {
      "metadata": {
        "id": "e0y5PLM6ciB5",
        "colab_type": "code",
        "outputId": "94d67e65-a130-4580-a4f8-1e2a4684bcad",
        "colab": {
          "base_uri": "https://localhost:8080/",
          "height": 139
        }
      },
      "cell_type": "code",
      "source": [
        "!pip install http://download.pytorch.org/whl/cu92/torch-0.4.1-cp36-cp36m-linux_x86_64.whl\n",
        "!pip install torchvision"
      ],
      "execution_count": 0,
      "outputs": [
        {
          "output_type": "stream",
          "text": [
            "Requirement already satisfied: torch==0.4.1 from http://download.pytorch.org/whl/cu92/torch-0.4.1-cp36-cp36m-linux_x86_64.whl in /usr/local/lib/python3.6/dist-packages (0.4.1)\n",
            "Requirement already satisfied: torchvision in /usr/local/lib/python3.6/dist-packages (0.2.1)\n",
            "Requirement already satisfied: numpy in /usr/local/lib/python3.6/dist-packages (from torchvision) (1.14.6)\n",
            "Requirement already satisfied: six in /usr/local/lib/python3.6/dist-packages (from torchvision) (1.11.0)\n",
            "Requirement already satisfied: pillow>=4.1.1 in /usr/local/lib/python3.6/dist-packages (from torchvision) (5.3.0)\n",
            "Requirement already satisfied: torch in /usr/local/lib/python3.6/dist-packages (from torchvision) (0.4.1)\n"
          ],
          "name": "stdout"
        }
      ]
    },
    {
      "metadata": {
        "id": "GhPYALC9Odav",
        "colab_type": "text"
      },
      "cell_type": "markdown",
      "source": [
        "### Imports"
      ]
    },
    {
      "metadata": {
        "deletable": true,
        "editable": true,
        "id": "LcGVaagRcav8",
        "colab_type": "code",
        "colab": {}
      },
      "cell_type": "code",
      "source": [
        "import numpy as np\n",
        "import torch as th\n",
        "import torch\n",
        "import torchvision\n",
        "import torchvision.transforms as transforms\n",
        "import torch.nn as nn\n",
        "import torch.nn.functional as F\n",
        "import torch.optim as optim\n",
        "from google.colab import files\n",
        "import datetime \n",
        "import copy\n"
      ],
      "execution_count": 0,
      "outputs": []
    },
    {
      "metadata": {
        "deletable": true,
        "editable": true,
        "id": "iX2ltR_zcayA",
        "colab_type": "text"
      },
      "cell_type": "markdown",
      "source": [
        "### Seed the random generator to have reproducible results:"
      ]
    },
    {
      "metadata": {
        "deletable": true,
        "editable": true,
        "id": "335xvR6acayB",
        "colab_type": "code",
        "colab": {}
      },
      "cell_type": "code",
      "source": [
        "# seed = 42\n",
        "# np.random.seed(seed)\n",
        "# torch.manual_seed(seed)\n",
        "\n",
        "if th.cuda.is_available():\n",
        "  # Make CuDNN Determinist\n",
        "  th.backends.cudnn.deterministic = True\n",
        "#   th.cuda.manual_seed(seed)\n",
        "\n",
        "# Define default device, we should use the GPU (cuda) if available\n",
        "device = th.device(\"cuda\" if th.cuda.is_available() else \"cpu\")\n"
      ],
      "execution_count": 0,
      "outputs": []
    },
    {
      "metadata": {
        "deletable": true,
        "editable": true,
        "id": "7EzIeyD4cayG",
        "colab_type": "text"
      },
      "cell_type": "markdown",
      "source": [
        "### Define subset of the dataset"
      ]
    },
    {
      "metadata": {
        "deletable": true,
        "editable": true,
        "id": "Nwu-wWh3cayI",
        "colab_type": "code",
        "colab": {}
      },
      "cell_type": "code",
      "source": [
        "from torch.utils.data.sampler import SubsetRandomSampler\n",
        "\n",
        "n_training_samples = 40000 # Max: 50 000 - n_val_samples\n",
        "n_val_samples = 5000\n",
        "n_test_samples = 5000\n",
        "\n",
        "train_sampler = SubsetRandomSampler(np.arange(n_training_samples, dtype=np.int64))\n",
        "val_sampler = SubsetRandomSampler(np.arange(n_training_samples, n_training_samples + n_val_samples, dtype=np.int64))\n",
        "test_sampler = SubsetRandomSampler(np.arange(n_test_samples, dtype=np.int64))\n",
        "# (In the last case, indexes do not need to account for training ones because the train=False parameter in datasets.CIFAR will select from the test set)"
      ],
      "execution_count": 0,
      "outputs": []
    },
    {
      "metadata": {
        "colab_type": "text",
        "deletable": true,
        "editable": true,
        "id": "evFXNmbst2Ez"
      },
      "cell_type": "markdown",
      "source": [
        "### Apply transformations do dataset"
      ]
    },
    {
      "metadata": {
        "colab_type": "code",
        "deletable": true,
        "editable": true,
        "id": "ZJ-hYN00t2E2",
        "colab": {}
      },
      "cell_type": "code",
      "source": [
        "num_workers = 2\n",
        "test_batch_size = 4\n",
        "\n",
        "transform = transforms.Compose(\n",
        "    [transforms.RandomHorizontalFlip(),\n",
        "     transforms.RandomCrop(size=32,padding=4),\n",
        "     transforms.ToTensor(),\n",
        "     transforms.Normalize(mean=(0.5, 0.5, 0.5), std=(0.5, 0.5, 0.5))])"
      ],
      "execution_count": 0,
      "outputs": []
    },
    {
      "metadata": {
        "id": "qt7DcblISmeF",
        "colab_type": "text"
      },
      "cell_type": "markdown",
      "source": [
        "### Separate dataset in train/test set"
      ]
    },
    {
      "metadata": {
        "id": "75CwbmQ9SrVk",
        "colab_type": "code",
        "outputId": "2c8eb2fc-3fc5-4c6f-a29f-fc8e25e4ca42",
        "colab": {
          "base_uri": "https://localhost:8080/",
          "height": 71
        }
      },
      "cell_type": "code",
      "source": [
        "train_set = torchvision.datasets.CIFAR10(root='./data', train=True,\n",
        "                                        download=True, transform=transform)\n",
        "\n",
        "train_loader = torch.utils.data.DataLoader(train_set, batch_size=test_batch_size, sampler=train_sampler,\n",
        "                                          num_workers=num_workers)\n",
        "\n",
        "test_set = torchvision.datasets.CIFAR10(root='./data', train=False,\n",
        "                                       download=True, transform=transform)\n",
        "test_loader = torch.utils.data.DataLoader(test_set, batch_size=test_batch_size, sampler=test_sampler,\n",
        "                                         num_workers=num_workers)\n",
        "\n",
        "classes = ('plane', 'car', 'bird', 'cat',\n",
        "           'deer', 'dog', 'frog', 'horse', 'ship', 'truck')"
      ],
      "execution_count": 0,
      "outputs": [
        {
          "output_type": "stream",
          "text": [
            "Files already downloaded and verified\n",
            "Files already downloaded and verified\n"
          ],
          "name": "stdout"
        }
      ]
    },
    {
      "metadata": {
        "id": "P4JxtXJ4SOC9",
        "colab_type": "text"
      },
      "cell_type": "markdown",
      "source": [
        "### Extra"
      ]
    },
    {
      "metadata": {
        "id": "ZfiolbqUSQJ9",
        "colab_type": "code",
        "colab": {}
      },
      "cell_type": "code",
      "source": [
        "def get_output_size(in_size, kernel_size, stride=1, padding=0):\n",
        "    \"\"\"\n",
        "    Get the output size given all the parameters of the convolution\n",
        "    :param in_size: (int) input size\n",
        "    :param kernel_size: (int)\n",
        "    :param stride: (int)\n",
        "    :param paddind: (int)\n",
        "    :return: (int)\n",
        "    \"\"\"\n",
        "    return int((in_size - kernel_size + 2 * padding) / stride) + 1"
      ],
      "execution_count": 0,
      "outputs": []
    },
    {
      "metadata": {
        "colab_type": "text",
        "deletable": true,
        "editable": true,
        "id": "cGWVnBOft2FI"
      },
      "cell_type": "markdown",
      "source": [
        "### Show sample images\n",
        "\n"
      ]
    },
    {
      "metadata": {
        "colab_type": "code",
        "deletable": true,
        "editable": true,
        "id": "68OfC35ut2FM",
        "outputId": "d53225c6-9482-4df9-95ef-9f0dcaecf75b",
        "colab": {
          "base_uri": "https://localhost:8080/",
          "height": 175
        }
      },
      "cell_type": "code",
      "source": [
        "# get some random training images\n",
        "dataiter = iter(train_loader)\n",
        "images, labels = dataiter.next()\n",
        "\n",
        "# show images\n",
        "imshow(torchvision.utils.make_grid(images))\n",
        "# print labels\n",
        "print(' '.join('{:>10}'.format(classes[labels[j]]) for j in range(test_batch_size)))"
      ],
      "execution_count": 0,
      "outputs": [
        {
          "output_type": "stream",
          "text": [
            "      deer       bird      horse      horse\n"
          ],
          "name": "stdout"
        },
        {
          "output_type": "display_data",
          "data": {
            "image/png": "[encoded data removed]",
            "text/plain": [
              "<matplotlib.figure.Figure at 0x7f144c01b1d0>"
            ]
          },
          "metadata": {
            "tags": []
          }
        }
      ]
    },
    {
      "metadata": {
        "deletable": true,
        "editable": true,
        "id": "Rj-togN6cays",
        "colab_type": "code",
        "colab": {}
      },
      "cell_type": "code",
      "source": [
        "class LinearClassifier(nn.Module):\n",
        "    \"\"\"\n",
        "    Linear Classifier\n",
        "    \"\"\"\n",
        "    def __init__(self):\n",
        "        super(LinearClassifier, self).__init__()\n",
        "        self.linear = nn.Linear(32 * 32 * 3, 10)\n",
        "\n",
        "    def forward(self, x):\n",
        "        # Flatten input 3x32x32 -> 3072\n",
        "        x = x.view(x.size(0), -1)\n",
        "        return self.linear(x)"
      ],
      "execution_count": 0,
      "outputs": []
    },
    {
      "metadata": {
        "colab_type": "text",
        "deletable": true,
        "editable": true,
        "id": "2SQi9Xf-t2Fu"
      },
      "cell_type": "markdown",
      "source": [
        "### Define a loss function and optimizer"
      ]
    },
    {
      "metadata": {
        "colab_type": "code",
        "deletable": true,
        "editable": true,
        "id": "DOUiPtZQt2Fx",
        "colab": {}
      },
      "cell_type": "code",
      "source": [
        "def createLossAndOptimizer(net, learning_rate=0.001):\n",
        "    # it combines softmax with negative log likelihood loss\n",
        "    criterion = nn.CrossEntropyLoss()  \n",
        "    #optimizer = optim.SGD(net.parameters(), lr=learning_rate, momentum=0.9)\n",
        "    optimizer = optim.Adam(net.parameters(), lr=learning_rate)\n",
        "    return criterion, optimizer"
      ],
      "execution_count": 0,
      "outputs": []
    },
    {
      "metadata": {
        "deletable": true,
        "editable": true,
        "id": "mNf1e8QZcay1",
        "colab_type": "text"
      },
      "cell_type": "markdown",
      "source": [
        "### Data loader"
      ]
    },
    {
      "metadata": {
        "deletable": true,
        "editable": true,
        "id": "EqDD8_z8cay2",
        "colab_type": "code",
        "colab": {}
      },
      "cell_type": "code",
      "source": [
        "def get_train_loader(batch_size):\n",
        "    return torch.utils.data.DataLoader(train_set, batch_size=batch_size, sampler=train_sampler,\n",
        "                                              num_workers=num_workers)\n",
        "\n",
        "# Use larger batch size for validation to speed up computation\n",
        "val_loader = torch.utils.data.DataLoader(train_set, batch_size=128, sampler=val_sampler,\n",
        "                                          num_workers=num_workers)"
      ],
      "execution_count": 0,
      "outputs": []
    },
    {
      "metadata": {
        "deletable": true,
        "editable": true,
        "id": "yTDHHbLpcay5",
        "colab_type": "text"
      },
      "cell_type": "markdown",
      "source": [
        "### Training loop"
      ]
    },
    {
      "metadata": {
        "colab_type": "code",
        "deletable": true,
        "editable": true,
        "id": "dATbDR5pt2GE",
        "colab": {}
      },
      "cell_type": "code",
      "source": [
        "def train(net, batch_size, n_epochs, learning_rate, start_epoch=1):\n",
        "    \"\"\"\n",
        "    Train a neural network and print statistics of the training\n",
        "    \n",
        "    :param net: (PyTorch Neural Network)\n",
        "    :param batch_size: (int)\n",
        "    :param n_epochs: (int)  Number of iterations on the training set\n",
        "    :param learning_rate: (float) learning rate used by the optimizer\n",
        "    \"\"\"\n",
        "    print(\"===== HYPERPARAMETERS =====\")\n",
        "    print(\"batch_size=\", batch_size)\n",
        "    print(\"n_epochs=\", n_epochs)\n",
        "    print(\"learning_rate=\", learning_rate)\n",
        "    print(\"=\" * 30)\n",
        "    \n",
        "    train_loader = get_train_loader(batch_size)\n",
        "    n_minibatches = len(train_loader)\n",
        "\n",
        "    criterion, optimizer = createLossAndOptimizer(net, learning_rate)\n",
        "    # Init variables used for plotting the loss\n",
        "    train_history = []\n",
        "    val_history = []\n",
        "\n",
        "    training_start_time = time.time()\n",
        "    best_error = np.inf\n",
        "    best_model_path = \"best_model.pth\"\n",
        "    \n",
        "    # Move model to gpu if possible\n",
        "    net = net.to(device)\n",
        "\n",
        "    for epoch in range(n_epochs):  # loop over the dataset multiple times\n",
        "\n",
        "        running_loss = 0.0\n",
        "        print_every = n_minibatches // 10\n",
        "        start_time = time.time()\n",
        "        total_train_loss = 0\n",
        "        \n",
        "        for i, (inputs, labels) in enumerate(train_loader):\n",
        "\n",
        "            # Move tensors to correct device\n",
        "            inputs, labels = inputs.to(device), labels.to(device)\n",
        "\n",
        "            # zero the parameter gradients\n",
        "            optimizer.zero_grad()\n",
        "\n",
        "            # forward + backward + optimize\n",
        "            outputs = net(inputs)\n",
        "            loss = criterion(outputs, labels)\n",
        "            loss.backward()\n",
        "            optimizer.step()\n",
        "\n",
        "            # print statistics\n",
        "            running_loss += loss.item()\n",
        "            total_train_loss += loss.item()\n",
        "\n",
        "            # print every 10th of epoch\n",
        "            if (i + 1) % (print_every + 1) == 0:    \n",
        "                print(\"Epoch {}, {:d}% \\t train_loss: {:.2f} took: {:.2f}s\".format(\n",
        "                      start_epoch + epoch, int(100 * (i + 1) / n_minibatches), running_loss / print_every,\n",
        "                      time.time() - start_time))\n",
        "                running_loss = 0.0\n",
        "                start_time = time.time()\n",
        "\n",
        "        train_history.append(total_train_loss / len(train_loader))\n",
        "\n",
        "        total_val_loss = 0\n",
        "        # Do a pass on the validation set\n",
        "        # We don't need to compute gradient,\n",
        "        # we save memory and computation using th.no_grad()\n",
        "        with th.no_grad():\n",
        "          for inputs, labels in val_loader:\n",
        "              # Move tensors to correct device\n",
        "              inputs, labels = inputs.to(device), labels.to(device)\n",
        "              # Forward pass\n",
        "              predictions = net(inputs)\n",
        "              val_loss = criterion(predictions, labels)\n",
        "              total_val_loss += val_loss.item()\n",
        "            \n",
        "        val_history.append(total_val_loss / len(val_loader))\n",
        "        # Save model that performs best on validation set\n",
        "        if total_val_loss < best_error:\n",
        "            best_error = total_val_loss\n",
        "            th.save(net.state_dict(), best_model_path)\n",
        "\n",
        "        print(\"Validation loss = {:.2f}\".format(total_val_loss / len(val_loader)))\n",
        "\n",
        "    print(\"Training Finished, took {:.2f}s\".format(time.time() - training_start_time))\n",
        "    \n",
        "    # Load best model\n",
        "    net.load_state_dict(th.load(best_model_path))\n",
        "    \n",
        "    return train_history, val_history"
      ],
      "execution_count": 0,
      "outputs": []
    },
    {
      "metadata": {
        "id": "jt7jXnzPWUHn",
        "colab_type": "text"
      },
      "cell_type": "markdown",
      "source": [
        "### Performance calculation functions"
      ]
    },
    {
      "metadata": {
        "id": "BWBXSh8tWST3",
        "colab_type": "code",
        "colab": {}
      },
      "cell_type": "code",
      "source": [
        "def dataset_accuracy(net, data_loader, name=\"\"):\n",
        "    net = net.to(device)\n",
        "    correct = 0\n",
        "    total = 0\n",
        "    for images, labels in data_loader:\n",
        "        images, labels = images.to(device), labels.to(device)\n",
        "        outputs = net(images)\n",
        "        _, predicted = torch.max(outputs, 1)\n",
        "        total += labels.size(0)\n",
        "        correct += (predicted == labels).sum()\n",
        "    accuracy = 100 * float(correct) / total\n",
        "    print('Accuracy of the network on the {} {} images: {:.2f} %'.format(total, name, accuracy))\n",
        "\n",
        "def train_set_accuracy(net):\n",
        "    dataset_accuracy(net, train_loader, \"train\")\n",
        "\n",
        "def val_set_accuracy(net):\n",
        "    dataset_accuracy(net, val_loader, \"validation\")  \n",
        "    \n",
        "def test_set_accuracy(net):\n",
        "    dataset_accuracy(net, test_loader, \"test\")\n",
        "\n",
        "def compute_accuracy(net):\n",
        "    print(\"Computing accuracy...\")\n",
        "    train_set_accuracy(net)\n",
        "    val_set_accuracy(net)\n",
        "    test_set_accuracy(net)\n",
        "    \n",
        "def accuracy_per_class(net):\n",
        "    net = net.to(device)\n",
        "    n_classes = 10\n",
        "    # (real, predicted)\n",
        "    confusion_matrix = np.zeros((n_classes, n_classes), dtype=np.int64)\n",
        "\n",
        "    for images, labels in test_loader:\n",
        "        images, labels = images, labels = images.to(device), labels.to(device)\n",
        "        outputs = net(images)\n",
        "        _, predicted = torch.max(outputs.data, 1)\n",
        "        for i in range(test_batch_size):\n",
        "            confusion_matrix[labels[i], predicted[i]] += 1\n",
        "            label = labels[i]\n",
        "\n",
        "    print(\"{:<10} {:^10}\".format(\"Class\", \"Accuracy (%)\"))\n",
        "    for i in range(n_classes):\n",
        "        class_total = confusion_matrix[i, :].sum()\n",
        "        class_correct = confusion_matrix[i, i]\n",
        "        percentage_correct = 100.0 * float(class_correct) / class_total\n",
        "        \n",
        "        print('{:<10} {:^10.2f} ({:^6}/{:^6})'.format(classes[i], percentage_correct, class_correct, class_total))\n",
        "    return confusion_matrix\n"
      ],
      "execution_count": 0,
      "outputs": []
    },
    {
      "metadata": {
        "id": "30rJqFDMS4bZ",
        "colab_type": "text"
      },
      "cell_type": "markdown",
      "source": [
        "## CNN Architecture"
      ]
    },
    {
      "metadata": {
        "id": "_j018WkkUJOT",
        "colab_type": "code",
        "colab": {}
      },
      "cell_type": "code",
      "source": [
        "class MyConvolutionalNetwork(nn.Module):\n",
        "    def __init__(self):\n",
        "        super(MyConvolutionalNetwork, self).__init__()\n",
        "        \n",
        "        self.conv11 = nn.Conv2d(3,     64,   kernel_size=3, stride=1, padding=1)\n",
        "        self.conv12 = nn.Conv2d(64,    128,   kernel_size=3, stride=1, padding=1)\n",
        "        self.pool1 = nn.MaxPool2d(kernel_size=2, stride=2, padding=0)\n",
        "        self.bnorm1 = nn.BatchNorm2d(128)\n",
        "        \n",
        "        self.conv21 = nn.Conv2d(128,  128,   kernel_size=3, stride=1, padding=1)\n",
        "        self.conv22 = nn.Conv2d(128,  256,   kernel_size=3, stride=1, padding=1)\n",
        "        self.pool2 = nn.MaxPool2d(kernel_size=2, stride=2, padding=0)\n",
        "        self.bnorm2 = nn.BatchNorm2d(256)\n",
        "        \n",
        "        self.conv31 = nn.Conv2d(256,  256,   kernel_size=3, stride=1, padding=1)\n",
        "        self.conv32 = nn.Conv2d(256,  512,   kernel_size=3, stride=1, padding=1)\n",
        "        self.pool3 = nn.MaxPool2d(kernel_size=2, stride=2, padding=0)\n",
        "        self.bnorm3 = nn.BatchNorm2d(512)\n",
        "        \n",
        "        self.conv41 = nn.Conv2d(512,  512,   kernel_size=3, stride=1, padding=1)\n",
        "        self.conv42 = nn.Conv2d(512,  1024,   kernel_size=3, stride=1, padding=1)\n",
        "        self.pool4 = nn.MaxPool2d(kernel_size=2, stride=2, padding=0)\n",
        "        self.bnorm4 = nn.BatchNorm2d(1024)\n",
        "        \n",
        "        self.conv51 = nn.Conv2d(1024, 1024,  kernel_size=3, stride=1, padding=1)\n",
        "        self.conv52 = nn.Conv2d(1024, 2048,  kernel_size=3, stride=1, padding=1)\n",
        "        self.pool5 = nn.MaxPool2d(kernel_size=2, stride=2, padding=0)\n",
        "        self.bnorm5 = nn.BatchNorm2d(2048)\n",
        "        \n",
        "        self.fc1 = nn.Linear(2048, 1024)\n",
        "        self.fc2 = nn.Linear(1024, 512)\n",
        "        self.fc3 = nn.Linear(512, 10)\n",
        "        \n",
        "#         self.drop1 = nn.Dropout(p=0.1)\n",
        "#         self.drop2 = nn.Dropout(p=0.2)\n",
        "#         self.drop3 = nn.Dropout(p=0.3)\n",
        "#         self.drop4 = nn.Dropout(p=0.4)\n",
        "#         self.drop5 = nn.Dropout(p=0.5)\n",
        "        \n",
        "    def forward(self, x):\n",
        "        \n",
        "        x = F.relu(self.conv11(x))\n",
        "        x = F.relu(self.conv12(x))\n",
        "        x = self.pool1(x)\n",
        "        x = self.bnorm1(x)\n",
        "#         x = self.drop1(x)\n",
        "        \n",
        "        x = F.relu(self.conv21(x))\n",
        "        x = F.relu(self.conv22(x))\n",
        "        x = self.pool2(x)\n",
        "        x = self.bnorm2(x)\n",
        "#         x = self.drop2(x)\n",
        "        \n",
        "        x = F.relu(self.conv31(x))\n",
        "        x = F.relu(self.conv32(x))\n",
        "        x = self.pool3(x)\n",
        "        x = self.bnorm3(x)\n",
        "#         x = self.drop3(x)\n",
        "        \n",
        "        x = F.relu(self.conv41(x))\n",
        "        x = F.relu(self.conv42(x))\n",
        "        x = self.pool4(x)\n",
        "        x = self.bnorm4(x)\n",
        "#         x = self.drop4(x)\n",
        "        \n",
        "        x = F.relu(self.conv51(x))\n",
        "        x = F.relu(self.conv52(x))\n",
        "        x = self.pool5(x)\n",
        "        x = self.bnorm5(x)\n",
        "#         x = self.drop5(x)\n",
        "        \n",
        "        x = x.view(-1, 2048)\n",
        "        x = F.relu(self.fc1(x))\n",
        "#         x = self.drop5(x)\n",
        "        x = F.relu(self.fc2(x))\n",
        "        x = self.fc3(x)\n",
        "      \n",
        "        return x"
      ],
      "execution_count": 0,
      "outputs": []
    },
    {
      "metadata": {
        "id": "KseRFXKHTAqk",
        "colab_type": "text"
      },
      "cell_type": "markdown",
      "source": [
        "## Performance evaluation"
      ]
    },
    {
      "metadata": {
        "id": "c2libohwkmMa",
        "colab_type": "text"
      },
      "cell_type": "markdown",
      "source": [
        "### Instantiate network"
      ]
    },
    {
      "metadata": {
        "id": "CNNcXmNBksbG",
        "colab_type": "code",
        "colab": {}
      },
      "cell_type": "code",
      "source": [
        "train_history = []\n",
        "val_history = []\n",
        "cnn_copies = [MyConvolutionalNetwork()]\n",
        "last_epoch = 0"
      ],
      "execution_count": 0,
      "outputs": []
    },
    {
      "metadata": {
        "id": "2huh4svZUqEY",
        "colab_type": "text"
      },
      "cell_type": "markdown",
      "source": [
        "### Train network"
      ]
    },
    {
      "metadata": {
        "id": "HPQCXuJikuYu",
        "colab_type": "code",
        "outputId": "7fe41e41-a874-4e49-ebff-7c35d818171d",
        "colab": {
          "base_uri": "https://localhost:8080/",
          "height": 5797
        }
      },
      "cell_type": "code",
      "source": [
        "epochs_to_train = 20\n",
        "save_intervals = 3\n",
        "\n",
        "for i in range(epochs_to_train):\n",
        "    last_epoch += 1\n",
        "    print(\"------------- Epoch: {}\".format(last_epoch))\n",
        "    train_history_partial, val_history_partial = train(cnn_copies[-1], batch_size=32, n_epochs=1, learning_rate=0.001, start_epoch=last_epoch)\n",
        "\n",
        "    train_history += train_history_partial\n",
        "    val_history += val_history_partial\n",
        "    \n",
        "    if (i+1)%save_intervals == 0:\n",
        "        cnn_copies.append(copy.deepcopy(cnn_copies[-1]))\n",
        "        "
      ],
      "execution_count": 0,
      "outputs": [
        {
          "output_type": "stream",
          "text": [
            "------------- Epoch: 21\n",
            "===== HYPERPARAMETERS =====\n",
            "batch_size= 32\n",
            "n_epochs= 1\n",
            "learning_rate= 0.001\n",
            "==============================\n",
            "Epoch 21, 10% \t train_loss: 0.43 took: 15.08s\n",
            "Epoch 21, 20% \t train_loss: 0.46 took: 14.82s\n",
            "Epoch 21, 30% \t train_loss: 0.42 took: 14.74s\n",
            "Epoch 21, 40% \t train_loss: 0.41 took: 14.71s\n",
            "Epoch 21, 50% \t train_loss: 0.45 took: 14.72s\n",
            "Epoch 21, 60% \t train_loss: 0.41 took: 14.66s\n",
            "Epoch 21, 70% \t train_loss: 0.43 took: 14.64s\n",
            "Epoch 21, 80% \t train_loss: 0.39 took: 14.71s\n",
            "Epoch 21, 90% \t train_loss: 0.39 took: 14.67s\n",
            "Validation loss = 0.57\n",
            "Training Finished, took 151.00s\n",
            "------------- Epoch: 22\n",
            "===== HYPERPARAMETERS =====\n",
            "batch_size= 32\n",
            "n_epochs= 1\n",
            "learning_rate= 0.001\n",
            "==============================\n",
            "Epoch 22, 10% \t train_loss: 0.45 took: 14.75s\n",
            "Epoch 22, 20% \t train_loss: 0.45 took: 14.65s\n",
            "Epoch 22, 30% \t train_loss: 0.47 took: 14.62s\n",
            "Epoch 22, 40% \t train_loss: 0.42 took: 14.66s\n",
            "Epoch 22, 50% \t train_loss: 0.43 took: 14.65s\n",
            "Epoch 22, 60% \t train_loss: 0.41 took: 14.65s\n",
            "Epoch 22, 70% \t train_loss: 0.42 took: 14.63s\n",
            "Epoch 22, 80% \t train_loss: 0.45 took: 14.65s\n",
            "Epoch 22, 90% \t train_loss: 0.40 took: 14.64s\n",
            "Validation loss = 0.53\n",
            "Training Finished, took 150.06s\n",
            "------------- Epoch: 23\n",
            "===== HYPERPARAMETERS =====\n",
            "batch_size= 32\n",
            "n_epochs= 1\n",
            "learning_rate= 0.001\n",
            "==============================\n",
            "Epoch 23, 10% \t train_loss: 0.45 took: 14.81s\n",
            "Epoch 23, 20% \t train_loss: 0.43 took: 14.64s\n",
            "Epoch 23, 30% \t train_loss: 0.44 took: 14.66s\n",
            "Epoch 23, 40% \t train_loss: 0.40 took: 14.66s\n",
            "Epoch 23, 50% \t train_loss: 0.44 took: 14.65s\n",
            "Epoch 23, 60% \t train_loss: 0.41 took: 14.65s\n",
            "Epoch 23, 70% \t train_loss: 0.40 took: 14.66s\n",
            "Epoch 23, 80% \t train_loss: 0.39 took: 14.67s\n",
            "Epoch 23, 90% \t train_loss: 0.40 took: 14.66s\n",
            "Validation loss = 0.55\n",
            "Training Finished, took 150.28s\n",
            "------------- Epoch: 24\n",
            "===== HYPERPARAMETERS =====\n",
            "batch_size= 32\n",
            "n_epochs= 1\n",
            "learning_rate= 0.001\n",
            "==============================\n",
            "Epoch 24, 10% \t train_loss: 0.42 took: 14.80s\n",
            "Epoch 24, 20% \t train_loss: 0.46 took: 14.64s\n",
            "Epoch 24, 30% \t train_loss: 0.44 took: 14.66s\n",
            "Epoch 24, 40% \t train_loss: 0.41 took: 14.70s\n",
            "Epoch 24, 50% \t train_loss: 0.41 took: 14.67s\n",
            "Epoch 24, 60% \t train_loss: 0.40 took: 14.67s\n",
            "Epoch 24, 70% \t train_loss: 0.40 took: 14.63s\n",
            "Epoch 24, 80% \t train_loss: 0.47 took: 14.63s\n",
            "Epoch 24, 90% \t train_loss: 0.41 took: 14.65s\n",
            "Validation loss = 0.50\n",
            "Training Finished, took 150.22s\n",
            "------------- Epoch: 25\n",
            "===== HYPERPARAMETERS =====\n",
            "batch_size= 32\n",
            "n_epochs= 1\n",
            "learning_rate= 0.001\n",
            "==============================\n",
            "Epoch 25, 10% \t train_loss: 0.42 took: 14.74s\n",
            "Epoch 25, 20% \t train_loss: 0.45 took: 14.64s\n",
            "Epoch 25, 30% \t train_loss: 0.41 took: 14.66s\n",
            "Epoch 25, 40% \t train_loss: 0.36 took: 14.65s\n",
            "Epoch 25, 50% \t train_loss: 0.42 took: 14.66s\n",
            "Epoch 25, 60% \t train_loss: 0.37 took: 14.65s\n",
            "Epoch 25, 70% \t train_loss: 0.37 took: 14.64s\n",
            "Epoch 25, 80% \t train_loss: 0.47 took: 14.62s\n",
            "Epoch 25, 90% \t train_loss: 0.46 took: 14.65s\n",
            "Validation loss = 0.53\n",
            "Training Finished, took 150.14s\n",
            "------------- Epoch: 26\n",
            "===== HYPERPARAMETERS =====\n",
            "batch_size= 32\n",
            "n_epochs= 1\n",
            "learning_rate= 0.001\n",
            "==============================\n",
            "Epoch 26, 10% \t train_loss: 0.44 took: 14.76s\n",
            "Epoch 26, 20% \t train_loss: 0.44 took: 14.65s\n",
            "Epoch 26, 30% \t train_loss: 0.43 took: 14.69s\n",
            "Epoch 26, 40% \t train_loss: 0.37 took: 14.66s\n",
            "Epoch 26, 50% \t train_loss: 0.41 took: 14.66s\n",
            "Epoch 26, 60% \t train_loss: 0.40 took: 14.65s\n",
            "Epoch 26, 70% \t train_loss: 0.43 took: 14.69s\n",
            "Epoch 26, 80% \t train_loss: 0.37 took: 14.67s\n",
            "Epoch 26, 90% \t train_loss: 0.38 took: 14.63s\n",
            "Validation loss = 0.46\n",
            "Training Finished, took 150.20s\n",
            "------------- Epoch: 27\n",
            "===== HYPERPARAMETERS =====\n",
            "batch_size= 32\n",
            "n_epochs= 1\n",
            "learning_rate= 0.001\n",
            "==============================\n",
            "Epoch 27, 10% \t train_loss: 0.41 took: 14.74s\n",
            "Epoch 27, 20% \t train_loss: 0.46 took: 14.66s\n",
            "Epoch 27, 30% \t train_loss: 0.40 took: 14.66s\n",
            "Epoch 27, 40% \t train_loss: 0.41 took: 14.67s\n",
            "Epoch 27, 50% \t train_loss: 0.38 took: 14.65s\n",
            "Epoch 27, 60% \t train_loss: 0.34 took: 14.65s\n",
            "Epoch 27, 70% \t train_loss: 0.37 took: 14.70s\n",
            "Epoch 27, 80% \t train_loss: 0.36 took: 14.65s\n",
            "Epoch 27, 90% \t train_loss: 0.40 took: 14.64s\n",
            "Validation loss = 0.46\n",
            "Training Finished, took 150.16s\n",
            "------------- Epoch: 28\n",
            "===== HYPERPARAMETERS =====\n",
            "batch_size= 32\n",
            "n_epochs= 1\n",
            "learning_rate= 0.001\n",
            "==============================\n",
            "Epoch 28, 10% \t train_loss: 0.42 took: 14.73s\n",
            "Epoch 28, 20% \t train_loss: 0.41 took: 14.65s\n",
            "Epoch 28, 30% \t train_loss: 0.41 took: 14.61s\n",
            "Epoch 28, 40% \t train_loss: 0.36 took: 14.64s\n",
            "Epoch 28, 50% \t train_loss: 0.37 took: 14.65s\n",
            "Epoch 28, 60% \t train_loss: 0.40 took: 14.72s\n",
            "Epoch 28, 70% \t train_loss: 0.37 took: 14.67s\n",
            "Epoch 28, 80% \t train_loss: 0.36 took: 14.64s\n",
            "Epoch 28, 90% \t train_loss: 0.37 took: 14.64s\n",
            "Validation loss = 0.46\n",
            "Training Finished, took 150.07s\n",
            "------------- Epoch: 29\n",
            "===== HYPERPARAMETERS =====\n",
            "batch_size= 32\n",
            "n_epochs= 1\n",
            "learning_rate= 0.001\n",
            "==============================\n",
            "Epoch 29, 10% \t train_loss: 0.40 took: 14.83s\n",
            "Epoch 29, 20% \t train_loss: 0.47 took: 14.66s\n",
            "Epoch 29, 30% \t train_loss: 0.36 took: 14.68s\n",
            "Epoch 29, 40% \t train_loss: 0.36 took: 14.66s\n",
            "Epoch 29, 50% \t train_loss: 0.37 took: 14.69s\n",
            "Epoch 29, 60% \t train_loss: 0.35 took: 14.69s\n",
            "Epoch 29, 70% \t train_loss: 0.36 took: 14.67s\n",
            "Epoch 29, 80% \t train_loss: 0.35 took: 14.67s\n",
            "Epoch 29, 90% \t train_loss: 0.35 took: 14.65s\n",
            "Validation loss = 0.50\n",
            "Training Finished, took 150.33s\n",
            "------------- Epoch: 30\n",
            "===== HYPERPARAMETERS =====\n",
            "batch_size= 32\n",
            "n_epochs= 1\n",
            "learning_rate= 0.001\n",
            "==============================\n",
            "Epoch 30, 10% \t train_loss: 0.40 took: 14.81s\n",
            "Epoch 30, 20% \t train_loss: 0.41 took: 14.72s\n",
            "Epoch 30, 30% \t train_loss: 0.37 took: 14.66s\n",
            "Epoch 30, 40% \t train_loss: 0.34 took: 14.68s\n",
            "Epoch 30, 50% \t train_loss: 0.37 took: 14.67s\n",
            "Epoch 30, 60% \t train_loss: 0.39 took: 14.70s\n",
            "Epoch 30, 70% \t train_loss: 0.37 took: 14.66s\n",
            "Epoch 30, 80% \t train_loss: 0.37 took: 14.68s\n",
            "Epoch 30, 90% \t train_loss: 0.37 took: 14.64s\n",
            "Validation loss = 0.51\n",
            "Training Finished, took 150.39s\n",
            "------------- Epoch: 31\n",
            "===== HYPERPARAMETERS =====\n",
            "batch_size= 32\n",
            "n_epochs= 1\n",
            "learning_rate= 0.001\n",
            "==============================\n",
            "Epoch 31, 10% \t train_loss: 0.41 took: 14.79s\n",
            "Epoch 31, 20% \t train_loss: 0.41 took: 14.65s\n",
            "Epoch 31, 30% \t train_loss: 0.36 took: 14.67s\n",
            "Epoch 31, 40% \t train_loss: 0.39 took: 14.62s\n",
            "Epoch 31, 50% \t train_loss: 0.37 took: 14.66s\n",
            "Epoch 31, 60% \t train_loss: 0.35 took: 14.62s\n",
            "Epoch 31, 70% \t train_loss: 0.33 took: 14.68s\n",
            "Epoch 31, 80% \t train_loss: 0.36 took: 14.68s\n",
            "Epoch 31, 90% \t train_loss: 0.38 took: 14.69s\n",
            "Validation loss = 0.46\n",
            "Training Finished, took 150.27s\n",
            "------------- Epoch: 32\n",
            "===== HYPERPARAMETERS =====\n",
            "batch_size= 32\n",
            "n_epochs= 1\n",
            "learning_rate= 0.001\n",
            "==============================\n",
            "Epoch 32, 10% \t train_loss: 0.40 took: 14.77s\n",
            "Epoch 32, 20% \t train_loss: 0.39 took: 14.65s\n",
            "Epoch 32, 30% \t train_loss: 0.37 took: 14.67s\n",
            "Epoch 32, 40% \t train_loss: 0.34 took: 14.67s\n",
            "Epoch 32, 50% \t train_loss: 0.36 took: 14.66s\n",
            "Epoch 32, 60% \t train_loss: 0.42 took: 14.69s\n",
            "Epoch 32, 70% \t train_loss: 0.38 took: 14.68s\n",
            "Epoch 32, 80% \t train_loss: 0.35 took: 14.64s\n",
            "Epoch 32, 90% \t train_loss: 0.42 took: 14.65s\n",
            "Validation loss = 0.47\n",
            "Training Finished, took 150.25s\n",
            "------------- Epoch: 33\n",
            "===== HYPERPARAMETERS =====\n",
            "batch_size= 32\n",
            "n_epochs= 1\n",
            "learning_rate= 0.001\n",
            "==============================\n",
            "Epoch 33, 10% \t train_loss: 0.39 took: 14.80s\n",
            "Epoch 33, 20% \t train_loss: 0.40 took: 14.68s\n",
            "Epoch 33, 30% \t train_loss: 0.45 took: 14.68s\n",
            "Epoch 33, 40% \t train_loss: 0.36 took: 14.67s\n",
            "Epoch 33, 50% \t train_loss: 0.39 took: 14.66s\n",
            "Epoch 33, 60% \t train_loss: 0.37 took: 14.68s\n",
            "Epoch 33, 70% \t train_loss: 0.30 took: 14.64s\n",
            "Epoch 33, 80% \t train_loss: 0.33 took: 14.64s\n",
            "Epoch 33, 90% \t train_loss: 0.36 took: 14.69s\n",
            "Validation loss = 0.50\n",
            "Training Finished, took 150.34s\n",
            "------------- Epoch: 34\n",
            "===== HYPERPARAMETERS =====\n",
            "batch_size= 32\n",
            "n_epochs= 1\n",
            "learning_rate= 0.001\n",
            "==============================\n",
            "Epoch 34, 10% \t train_loss: 0.38 took: 14.82s\n",
            "Epoch 34, 20% \t train_loss: 0.42 took: 14.66s\n",
            "Epoch 34, 30% \t train_loss: 0.38 took: 14.70s\n",
            "Epoch 34, 40% \t train_loss: 0.36 took: 14.68s\n",
            "Epoch 34, 50% \t train_loss: 0.34 took: 14.71s\n",
            "Epoch 34, 60% \t train_loss: 0.46 took: 14.68s\n",
            "Epoch 34, 70% \t train_loss: 0.41 took: 14.71s\n",
            "Epoch 34, 80% \t train_loss: 0.36 took: 14.65s\n",
            "Epoch 34, 90% \t train_loss: 0.33 took: 14.66s\n",
            "Validation loss = 0.46\n",
            "Training Finished, took 150.52s\n",
            "------------- Epoch: 35\n",
            "===== HYPERPARAMETERS =====\n",
            "batch_size= 32\n",
            "n_epochs= 1\n",
            "learning_rate= 0.001\n",
            "==============================\n",
            "Epoch 35, 10% \t train_loss: 0.36 took: 14.83s\n",
            "Epoch 35, 20% \t train_loss: 0.43 took: 14.68s\n",
            "Epoch 35, 30% \t train_loss: 0.33 took: 14.70s\n",
            "Epoch 35, 40% \t train_loss: 0.43 took: 14.72s\n",
            "Epoch 35, 50% \t train_loss: 0.37 took: 14.70s\n",
            "Epoch 35, 60% \t train_loss: 0.39 took: 14.70s\n",
            "Epoch 35, 70% \t train_loss: 0.34 took: 14.67s\n",
            "Epoch 35, 80% \t train_loss: 0.32 took: 14.67s\n",
            "Epoch 35, 90% \t train_loss: 0.40 took: 14.54s\n",
            "Validation loss = 0.50\n",
            "Training Finished, took 150.21s\n",
            "------------- Epoch: 36\n",
            "===== HYPERPARAMETERS =====\n",
            "batch_size= 32\n",
            "n_epochs= 1\n",
            "learning_rate= 0.001\n",
            "==============================\n",
            "Epoch 36, 10% \t train_loss: 0.52 took: 14.64s\n",
            "Epoch 36, 20% \t train_loss: 0.38 took: 14.51s\n",
            "Epoch 36, 30% \t train_loss: 0.35 took: 14.49s\n",
            "Epoch 36, 40% \t train_loss: 0.33 took: 14.55s\n",
            "Epoch 36, 50% \t train_loss: 0.36 took: 14.54s\n",
            "Epoch 36, 60% \t train_loss: 0.32 took: 14.53s\n",
            "Epoch 36, 70% \t train_loss: 0.34 took: 14.51s\n",
            "Epoch 36, 80% \t train_loss: 0.34 took: 14.45s\n",
            "Epoch 36, 90% \t train_loss: 0.34 took: 14.49s\n",
            "Validation loss = 0.45\n",
            "Training Finished, took 148.62s\n",
            "------------- Epoch: 37\n",
            "===== HYPERPARAMETERS =====\n",
            "batch_size= 32\n",
            "n_epochs= 1\n",
            "learning_rate= 0.001\n",
            "==============================\n",
            "Epoch 37, 10% \t train_loss: 0.49 took: 14.62s\n",
            "Epoch 37, 20% \t train_loss: 0.39 took: 14.54s\n",
            "Epoch 37, 30% \t train_loss: 0.35 took: 14.51s\n",
            "Epoch 37, 40% \t train_loss: 0.35 took: 14.46s\n",
            "Epoch 37, 50% \t train_loss: 0.31 took: 14.48s\n",
            "Epoch 37, 60% \t train_loss: 0.30 took: 14.51s\n",
            "Epoch 37, 70% \t train_loss: 0.38 took: 14.46s\n",
            "Epoch 37, 80% \t train_loss: 0.31 took: 14.46s\n",
            "Epoch 37, 90% \t train_loss: 0.33 took: 14.48s\n",
            "Validation loss = 0.51\n",
            "Training Finished, took 148.47s\n",
            "------------- Epoch: 38\n",
            "===== HYPERPARAMETERS =====\n",
            "batch_size= 32\n",
            "n_epochs= 1\n",
            "learning_rate= 0.001\n",
            "==============================\n",
            "Epoch 38, 10% \t train_loss: 0.42 took: 14.58s\n",
            "Epoch 38, 20% \t train_loss: 0.45 took: 14.52s\n",
            "Epoch 38, 30% \t train_loss: 0.51 took: 14.53s\n",
            "Epoch 38, 40% \t train_loss: 0.36 took: 14.50s\n",
            "Epoch 38, 50% \t train_loss: 0.32 took: 14.52s\n",
            "Epoch 38, 60% \t train_loss: 0.31 took: 14.54s\n",
            "Epoch 38, 70% \t train_loss: 0.30 took: 14.56s\n",
            "Epoch 38, 80% \t train_loss: 0.30 took: 14.50s\n",
            "Epoch 38, 90% \t train_loss: 0.33 took: 14.50s\n",
            "Validation loss = 0.46\n",
            "Training Finished, took 148.69s\n",
            "------------- Epoch: 39\n",
            "===== HYPERPARAMETERS =====\n",
            "batch_size= 32\n",
            "n_epochs= 1\n",
            "learning_rate= 0.001\n",
            "==============================\n",
            "Epoch 39, 10% \t train_loss: 0.38 took: 14.58s\n",
            "Epoch 39, 20% \t train_loss: 0.37 took: 14.52s\n",
            "Epoch 39, 30% \t train_loss: 0.34 took: 14.51s\n",
            "Epoch 39, 40% \t train_loss: 0.34 took: 14.51s\n",
            "Epoch 39, 50% \t train_loss: 0.39 took: 14.50s\n",
            "Epoch 39, 60% \t train_loss: 0.40 took: 14.56s\n",
            "Epoch 39, 70% \t train_loss: 0.33 took: 14.57s\n",
            "Epoch 39, 80% \t train_loss: 0.35 took: 14.47s\n",
            "Epoch 39, 90% \t train_loss: 0.34 took: 14.46s\n",
            "Validation loss = 0.50\n",
            "Training Finished, took 148.55s\n",
            "------------- Epoch: 40\n",
            "===== HYPERPARAMETERS =====\n",
            "batch_size= 32\n",
            "n_epochs= 1\n",
            "learning_rate= 0.001\n",
            "==============================\n",
            "Epoch 40, 10% \t train_loss: 0.36 took: 14.65s\n",
            "Epoch 40, 20% \t train_loss: 0.34 took: 14.48s\n",
            "Epoch 40, 30% \t train_loss: 0.37 took: 14.49s\n",
            "Epoch 40, 40% \t train_loss: 0.35 took: 14.45s\n",
            "Epoch 40, 50% \t train_loss: 0.33 took: 14.46s\n",
            "Epoch 40, 60% \t train_loss: 0.31 took: 14.47s\n",
            "Epoch 40, 70% \t train_loss: 0.29 took: 14.47s\n",
            "Epoch 40, 80% \t train_loss: 0.29 took: 14.44s\n",
            "Epoch 40, 90% \t train_loss: 0.29 took: 14.48s\n",
            "Validation loss = 0.50\n",
            "Training Finished, took 148.37s\n"
          ],
          "name": "stdout"
        }
      ]
    },
    {
      "metadata": {
        "id": "Au-DN62hTPFU",
        "colab_type": "code",
        "colab": {}
      },
      "cell_type": "code",
      "source": [
        "timestamp = str(datetime.datetime.now())\n",
        "torch.save(cnn_copies[-1].state_dict(), \"model_A_\" + str(last_epoch) + \"_\" + timestamp + \".pwf\") \n",
        "files.download(\"model_A_\" + str(last_epoch) + \"_\" + timestamp + \".pwf\")"
      ],
      "execution_count": 0,
      "outputs": []
    },
    {
      "metadata": {
        "id": "sU9bBag-UuYF",
        "colab_type": "text"
      },
      "cell_type": "markdown",
      "source": [
        "### Losses plot"
      ]
    },
    {
      "metadata": {
        "deletable": true,
        "editable": true,
        "id": "4CUQt-HJcazF",
        "colab_type": "code",
        "outputId": "fbac77a0-3fbc-4fa2-987b-d69da13f74f6",
        "colab": {
          "base_uri": "https://localhost:8080/",
          "height": 403
        }
      },
      "cell_type": "code",
      "source": [
        "  plot_losses(train_history, val_history)"
      ],
      "execution_count": 0,
      "outputs": [
        {
          "output_type": "display_data",
          "data": {
            "image/png": "[encoded data removed]",
            "text/plain": [
              "<matplotlib.figure.Figure at 0x7f14457404e0>"
            ]
          },
          "metadata": {
            "tags": []
          }
        }
      ]
    },
    {
      "metadata": {
        "colab_type": "text",
        "deletable": true,
        "editable": true,
        "id": "KIL77AQ7VTGr"
      },
      "cell_type": "markdown",
      "source": [
        "### Performance indicators\n"
      ]
    },
    {
      "metadata": {
        "id": "baI7HYX3Wp19",
        "colab_type": "code",
        "outputId": "b23d2437-7f09-4644-a8ae-3f8cf1d9822f",
        "colab": {
          "base_uri": "https://localhost:8080/",
          "height": 85
        }
      },
      "cell_type": "code",
      "source": [
        "compute_accuracy(cnn_copies[-1])"
      ],
      "execution_count": 0,
      "outputs": [
        {
          "output_type": "stream",
          "text": [
            "Computing accuracy...\n",
            "Accuracy of the network on the 40000 train images: 83.35 %\n",
            "Accuracy of the network on the 5000 validation images: 87.64 %\n",
            "Accuracy of the network on the 5000 test images: 79.20 %\n"
          ],
          "name": "stdout"
        }
      ]
    },
    {
      "metadata": {
        "colab_type": "code",
        "deletable": true,
        "editable": true,
        "id": "rkim9_INt2HY",
        "outputId": "f9f952bf-10b1-499e-c660-95bbc73f5c86",
        "colab": {
          "base_uri": "https://localhost:8080/",
          "height": 204
        }
      },
      "cell_type": "code",
      "source": [
        "confusion_matrix = accuracy_per_class(cnn_copies[-1])"
      ],
      "execution_count": 0,
      "outputs": [
        {
          "output_type": "stream",
          "text": [
            "Class      Accuracy (%)\n",
            "plane        69.88    ( 341  / 488  )\n",
            "car          88.71    ( 448  / 505  )\n",
            "bird         64.26    ( 329  / 512  )\n",
            "cat          63.58    ( 316  / 497  )\n",
            "deer         73.57    ( 373  / 507  )\n",
            "dog          68.65    ( 335  / 488  )\n",
            "frog         75.56    ( 371  / 491  )\n",
            "horse        73.33    ( 363  / 495  )\n",
            "ship         86.11    ( 434  / 504  )\n",
            "truck        82.46    ( 423  / 513  )\n"
          ],
          "name": "stdout"
        }
      ]
    },
    {
      "metadata": {
        "deletable": true,
        "editable": true,
        "id": "AZKLymOacazg",
        "colab_type": "text"
      },
      "cell_type": "markdown",
      "source": [
        "### Confusion Matrix"
      ]
    },
    {
      "metadata": {
        "deletable": true,
        "editable": true,
        "id": "1aYMqD1Ocazi",
        "colab_type": "code",
        "outputId": "59556b7a-f52c-4a7b-b700-a7b81a4c7d60",
        "colab": {
          "base_uri": "https://localhost:8080/",
          "height": 1153
        }
      },
      "cell_type": "code",
      "source": [
        "# Plot normalized confusion matrix\n",
        "plot_confusion_matrix(confusion_matrix, classes, normalize=True,\n",
        "                      title='Normalized confusion matrix')\n",
        "\n",
        "# Plot non-normalized confusion matrix\n",
        "plot_confusion_matrix(confusion_matrix, classes,\n",
        "                      title='Confusion matrix, without normalization')"
      ],
      "execution_count": 0,
      "outputs": [
        {
          "output_type": "display_data",
          "data": {
            "image/png": "[encoded data removed]",
            "text/plain": [
              "<matplotlib.figure.Figure at 0x7f1447eeba58>"
            ]
          },
          "metadata": {
            "tags": []
          }
        },
        {
          "output_type": "display_data",
          "data": {
            "image/png": "[encoded data removed]",
            "text/plain": [
              "<matplotlib.figure.Figure at 0x7f1445bde7f0>"
            ]
          },
          "metadata": {
            "tags": []
          }
        }
      ]
    },
    {
      "metadata": {
        "id": "FppLh7lUK72l",
        "colab_type": "code",
        "colab": {}
      },
      "cell_type": "code",
      "source": [
        ""
      ],
      "execution_count": 0,
      "outputs": []
    }
  ]
}